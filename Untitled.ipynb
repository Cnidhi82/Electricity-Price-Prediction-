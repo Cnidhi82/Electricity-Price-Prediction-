{
 "cells": [
  {
   "cell_type": "code",
   "execution_count": 14,
   "id": "b1b4ed6c",
   "metadata": {},
   "outputs": [
    {
     "name": "stderr",
     "output_type": "stream",
     "text": [
      "C:\\Users\\nidhi\\anaconda3\\lib\\site-packages\\IPython\\core\\interactiveshell.py:3444: DtypeWarning: Columns (9,10,11,14,15,16,17) have mixed types.Specify dtype option on import or set low_memory=False.\n",
      "  exec(code_obj, self.user_global_ns, self.user_ns)\n"
     ]
    },
    {
     "data": {
      "text/html": [
       "<div>\n",
       "<style scoped>\n",
       "    .dataframe tbody tr th:only-of-type {\n",
       "        vertical-align: middle;\n",
       "    }\n",
       "\n",
       "    .dataframe tbody tr th {\n",
       "        vertical-align: top;\n",
       "    }\n",
       "\n",
       "    .dataframe thead th {\n",
       "        text-align: right;\n",
       "    }\n",
       "</style>\n",
       "<table border=\"1\" class=\"dataframe\">\n",
       "  <thead>\n",
       "    <tr style=\"text-align: right;\">\n",
       "      <th></th>\n",
       "      <th>DateTime</th>\n",
       "      <th>Holiday</th>\n",
       "      <th>HolidayFlag</th>\n",
       "      <th>DayOfWeek</th>\n",
       "      <th>WeekOfYear</th>\n",
       "      <th>Day</th>\n",
       "      <th>Month</th>\n",
       "      <th>Year</th>\n",
       "      <th>PeriodOfDay</th>\n",
       "      <th>ForecastWindProduction</th>\n",
       "      <th>SystemLoadEA</th>\n",
       "      <th>SMPEA</th>\n",
       "      <th>ORKTemperature</th>\n",
       "      <th>ORKWindspeed</th>\n",
       "      <th>CO2Intensity</th>\n",
       "      <th>ActualWindProduction</th>\n",
       "      <th>SystemLoadEP2</th>\n",
       "      <th>SMPEP2</th>\n",
       "    </tr>\n",
       "  </thead>\n",
       "  <tbody>\n",
       "    <tr>\n",
       "      <th>0</th>\n",
       "      <td>01/11/2011 00:00</td>\n",
       "      <td>None</td>\n",
       "      <td>0</td>\n",
       "      <td>1</td>\n",
       "      <td>44</td>\n",
       "      <td>1</td>\n",
       "      <td>11</td>\n",
       "      <td>2011</td>\n",
       "      <td>0</td>\n",
       "      <td>315.31</td>\n",
       "      <td>3388.77</td>\n",
       "      <td>49.26</td>\n",
       "      <td>6.00</td>\n",
       "      <td>9.30</td>\n",
       "      <td>600.71</td>\n",
       "      <td>356.00</td>\n",
       "      <td>3159.60</td>\n",
       "      <td>54.32</td>\n",
       "    </tr>\n",
       "    <tr>\n",
       "      <th>1</th>\n",
       "      <td>01/11/2011 00:30</td>\n",
       "      <td>None</td>\n",
       "      <td>0</td>\n",
       "      <td>1</td>\n",
       "      <td>44</td>\n",
       "      <td>1</td>\n",
       "      <td>11</td>\n",
       "      <td>2011</td>\n",
       "      <td>1</td>\n",
       "      <td>321.80</td>\n",
       "      <td>3196.66</td>\n",
       "      <td>49.26</td>\n",
       "      <td>6.00</td>\n",
       "      <td>11.10</td>\n",
       "      <td>605.42</td>\n",
       "      <td>317.00</td>\n",
       "      <td>2973.01</td>\n",
       "      <td>54.23</td>\n",
       "    </tr>\n",
       "    <tr>\n",
       "      <th>2</th>\n",
       "      <td>01/11/2011 01:00</td>\n",
       "      <td>None</td>\n",
       "      <td>0</td>\n",
       "      <td>1</td>\n",
       "      <td>44</td>\n",
       "      <td>1</td>\n",
       "      <td>11</td>\n",
       "      <td>2011</td>\n",
       "      <td>2</td>\n",
       "      <td>328.57</td>\n",
       "      <td>3060.71</td>\n",
       "      <td>49.10</td>\n",
       "      <td>5.00</td>\n",
       "      <td>11.10</td>\n",
       "      <td>589.97</td>\n",
       "      <td>311.00</td>\n",
       "      <td>2834.00</td>\n",
       "      <td>54.23</td>\n",
       "    </tr>\n",
       "    <tr>\n",
       "      <th>3</th>\n",
       "      <td>01/11/2011 01:30</td>\n",
       "      <td>None</td>\n",
       "      <td>0</td>\n",
       "      <td>1</td>\n",
       "      <td>44</td>\n",
       "      <td>1</td>\n",
       "      <td>11</td>\n",
       "      <td>2011</td>\n",
       "      <td>3</td>\n",
       "      <td>335.60</td>\n",
       "      <td>2945.56</td>\n",
       "      <td>48.04</td>\n",
       "      <td>6.00</td>\n",
       "      <td>9.30</td>\n",
       "      <td>585.94</td>\n",
       "      <td>313.00</td>\n",
       "      <td>2725.99</td>\n",
       "      <td>53.47</td>\n",
       "    </tr>\n",
       "    <tr>\n",
       "      <th>4</th>\n",
       "      <td>01/11/2011 02:00</td>\n",
       "      <td>None</td>\n",
       "      <td>0</td>\n",
       "      <td>1</td>\n",
       "      <td>44</td>\n",
       "      <td>1</td>\n",
       "      <td>11</td>\n",
       "      <td>2011</td>\n",
       "      <td>4</td>\n",
       "      <td>342.90</td>\n",
       "      <td>2849.34</td>\n",
       "      <td>33.75</td>\n",
       "      <td>6.00</td>\n",
       "      <td>11.10</td>\n",
       "      <td>571.52</td>\n",
       "      <td>346.00</td>\n",
       "      <td>2655.64</td>\n",
       "      <td>39.87</td>\n",
       "    </tr>\n",
       "  </tbody>\n",
       "</table>\n",
       "</div>"
      ],
      "text/plain": [
       "           DateTime Holiday  HolidayFlag  DayOfWeek  WeekOfYear  Day  Month  \\\n",
       "0  01/11/2011 00:00    None            0          1          44    1     11   \n",
       "1  01/11/2011 00:30    None            0          1          44    1     11   \n",
       "2  01/11/2011 01:00    None            0          1          44    1     11   \n",
       "3  01/11/2011 01:30    None            0          1          44    1     11   \n",
       "4  01/11/2011 02:00    None            0          1          44    1     11   \n",
       "\n",
       "   Year  PeriodOfDay ForecastWindProduction SystemLoadEA  SMPEA  \\\n",
       "0  2011            0                 315.31      3388.77  49.26   \n",
       "1  2011            1                 321.80      3196.66  49.26   \n",
       "2  2011            2                 328.57      3060.71  49.10   \n",
       "3  2011            3                 335.60      2945.56  48.04   \n",
       "4  2011            4                 342.90      2849.34  33.75   \n",
       "\n",
       "  ORKTemperature ORKWindspeed CO2Intensity ActualWindProduction SystemLoadEP2  \\\n",
       "0           6.00         9.30       600.71               356.00       3159.60   \n",
       "1           6.00        11.10       605.42               317.00       2973.01   \n",
       "2           5.00        11.10       589.97               311.00       2834.00   \n",
       "3           6.00         9.30       585.94               313.00       2725.99   \n",
       "4           6.00        11.10       571.52               346.00       2655.64   \n",
       "\n",
       "  SMPEP2  \n",
       "0  54.32  \n",
       "1  54.23  \n",
       "2  54.23  \n",
       "3  53.47  \n",
       "4  39.87  "
      ]
     },
     "execution_count": 14,
     "metadata": {},
     "output_type": "execute_result"
    }
   ],
   "source": [
    "import pandas as pd\n",
    "import numpy as np\n",
    "import seaborn as sns\n",
    "import matplotlib.pyplot as plt\n",
    "\n",
    "data = pd.read_csv(r\"C:\\Users\\nidhi\\OneDrive\\Desktop\\Launch_code_projects\\Electricity Price Prediction\\Electricity Price Prediction (Case Study).csv\")\n",
    "data.head()\n",
    "#print(data.head())"
   ]
  },
  {
   "cell_type": "code",
   "execution_count": 15,
   "id": "8925f9ae",
   "metadata": {},
   "outputs": [
    {
     "data": {
      "text/plain": [
       "DateTime                  0\n",
       "Holiday                   0\n",
       "HolidayFlag               0\n",
       "DayOfWeek                 0\n",
       "WeekOfYear                0\n",
       "Day                       0\n",
       "Month                     0\n",
       "Year                      0\n",
       "PeriodOfDay               0\n",
       "ForecastWindProduction    0\n",
       "SystemLoadEA              0\n",
       "SMPEA                     0\n",
       "ORKTemperature            0\n",
       "ORKWindspeed              0\n",
       "CO2Intensity              0\n",
       "ActualWindProduction      0\n",
       "SystemLoadEP2             0\n",
       "SMPEP2                    0\n",
       "dtype: int64"
      ]
     },
     "execution_count": 15,
     "metadata": {},
     "output_type": "execute_result"
    }
   ],
   "source": [
    "data.isnull().sum()"
   ]
  },
  {
   "cell_type": "code",
   "execution_count": 16,
   "id": "e3e1a2df",
   "metadata": {},
   "outputs": [
    {
     "name": "stdout",
     "output_type": "stream",
     "text": [
      "<class 'pandas.core.frame.DataFrame'>\n",
      "RangeIndex: 38014 entries, 0 to 38013\n",
      "Data columns (total 18 columns):\n",
      " #   Column                  Non-Null Count  Dtype \n",
      "---  ------                  --------------  ----- \n",
      " 0   DateTime                38014 non-null  object\n",
      " 1   Holiday                 38014 non-null  object\n",
      " 2   HolidayFlag             38014 non-null  int64 \n",
      " 3   DayOfWeek               38014 non-null  int64 \n",
      " 4   WeekOfYear              38014 non-null  int64 \n",
      " 5   Day                     38014 non-null  int64 \n",
      " 6   Month                   38014 non-null  int64 \n",
      " 7   Year                    38014 non-null  int64 \n",
      " 8   PeriodOfDay             38014 non-null  int64 \n",
      " 9   ForecastWindProduction  38014 non-null  object\n",
      " 10  SystemLoadEA            38014 non-null  object\n",
      " 11  SMPEA                   38014 non-null  object\n",
      " 12  ORKTemperature          38014 non-null  object\n",
      " 13  ORKWindspeed            38014 non-null  object\n",
      " 14  CO2Intensity            38014 non-null  object\n",
      " 15  ActualWindProduction    38014 non-null  object\n",
      " 16  SystemLoadEP2           38014 non-null  object\n",
      " 17  SMPEP2                  38014 non-null  object\n",
      "dtypes: int64(7), object(11)\n",
      "memory usage: 5.2+ MB\n"
     ]
    }
   ],
   "source": [
    "data.info()"
   ]
  },
  {
   "cell_type": "code",
   "execution_count": 17,
   "id": "aa4b18a3",
   "metadata": {},
   "outputs": [],
   "source": [
    "data[\"ForecastWindProduction\"] = pd.to_numeric(data[\"ForecastWindProduction\"], errors= 'coerce')"
   ]
  },
  {
   "cell_type": "code",
   "execution_count": 18,
   "id": "de96543c",
   "metadata": {},
   "outputs": [
    {
     "name": "stdout",
     "output_type": "stream",
     "text": [
      "<class 'pandas.core.frame.DataFrame'>\n",
      "RangeIndex: 38014 entries, 0 to 38013\n",
      "Data columns (total 18 columns):\n",
      " #   Column                  Non-Null Count  Dtype  \n",
      "---  ------                  --------------  -----  \n",
      " 0   DateTime                38014 non-null  object \n",
      " 1   Holiday                 38014 non-null  object \n",
      " 2   HolidayFlag             38014 non-null  int64  \n",
      " 3   DayOfWeek               38014 non-null  int64  \n",
      " 4   WeekOfYear              38014 non-null  int64  \n",
      " 5   Day                     38014 non-null  int64  \n",
      " 6   Month                   38014 non-null  int64  \n",
      " 7   Year                    38014 non-null  int64  \n",
      " 8   PeriodOfDay             38014 non-null  int64  \n",
      " 9   ForecastWindProduction  38009 non-null  float64\n",
      " 10  SystemLoadEA            38014 non-null  object \n",
      " 11  SMPEA                   38014 non-null  object \n",
      " 12  ORKTemperature          38014 non-null  object \n",
      " 13  ORKWindspeed            38014 non-null  object \n",
      " 14  CO2Intensity            38014 non-null  object \n",
      " 15  ActualWindProduction    38014 non-null  object \n",
      " 16  SystemLoadEP2           38014 non-null  object \n",
      " 17  SMPEP2                  38014 non-null  object \n",
      "dtypes: float64(1), int64(7), object(10)\n",
      "memory usage: 5.2+ MB\n"
     ]
    }
   ],
   "source": [
    "data.info()"
   ]
  },
  {
   "cell_type": "code",
   "execution_count": 19,
   "id": "a1605414",
   "metadata": {},
   "outputs": [
    {
     "data": {
      "image/png": "[encoded data removed]",
      "text/plain": [
       "<Figure size 1152x864 with 2 Axes>"
      ]
     },
     "metadata": {
      "needs_background": "light"
     },
     "output_type": "display_data"
    }
   ],
   "source": [
    "correlations = data.corr(method='pearson')\n",
    "plt.figure(figsize=(16, 12))\n",
    "sns.heatmap(correlations, cmap=\"coolwarm\", annot=True)\n",
    "plt.show()"
   ]
  },
  {
   "cell_type": "code",
   "execution_count": 21,
   "id": "61a1fdb1",
   "metadata": {},
   "outputs": [],
   "source": [
    "x = data[[\"Day\", \"Month\", \"ForecastWindProduction\", \"SystemLoadEA\", \n",
    "          \"SMPEA\", \"ORKTemperature\", \"ORKWindspeed\", \"CO2Intensity\", \n",
    "          \"ActualWindProduction\", \"SystemLoadEP2\"]]\n",
    "y = data[\"SMPEP2\"]\n",
    "from sklearn.model_selection import train_test_split\n",
    "xtrain, xtest, ytrain, ytest = train_test_split(x, y, \n",
    "                                                test_size=0.2, \n",
    "                                                random_state=42)"
   ]
  },
  {
   "cell_type": "code",
   "execution_count": null,
   "id": "a9fd775f",
   "metadata": {},
   "outputs": [],
   "source": []
  }
 ],
 "metadata": {
  "kernelspec": {
   "display_name": "Python 3 (ipykernel)",
   "language": "python",
   "name": "python3"
  },
  "language_info": {
   "codemirror_mode": {
    "name": "ipython",
    "version": 3
   },
   "file_extension": ".py",
   "mimetype": "text/x-python",
   "name": "python",
   "nbconvert_exporter": "python",
   "pygments_lexer": "ipython3",
   "version": "3.9.7"
  }
 },
 "nbformat": 4,
 "nbformat_minor": 5
}
